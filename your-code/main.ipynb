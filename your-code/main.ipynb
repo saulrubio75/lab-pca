{
  "cells": [
    {
      "cell_type": "markdown",
      "metadata": {
        "id": "UoBI89ApAVL9"
      },
      "source": [
        "# Before your start:\n",
        "- Read the README.md file\n",
        "- Comment as much as you can and use the resources (README.md file)\n",
        "- Happy learning!"
      ]
    },
    {
      "cell_type": "code",
      "execution_count": 2,
      "metadata": {
        "id": "gxLEsBYfAVL_"
      },
      "outputs": [],
      "source": [
        "# Run this code:\n",
        "\n",
        "%matplotlib inline\n",
        "\n",
        "import matplotlib.pyplot as plt"
      ]
    },
    {
      "cell_type": "code",
      "execution_count": 3,
      "metadata": {
        "id": "uERJhNxDAVMA"
      },
      "outputs": [],
      "source": [
        "# Import numpy and pandas: \n",
        "import numpy as np \n",
        "import pandas as pd\n",
        "\n",
        "\n"
      ]
    },
    {
      "cell_type": "markdown",
      "metadata": {
        "id": "AtgzByLrAVMA"
      },
      "source": [
        "# Challenge 1 - Reading and Standardizing the Data\n",
        "\n",
        "In this challenge we will work with image data and reduce the dimensions of the data to create a 2 dimensional plot. While we have not worked much with image data before, it can be represented as a numpy array where each pixel is assigned a numeric value. In this lesson, we will look at a dataset of cats and a dataset of dogs and see whether reducing them to two dimensions allows us to see if the data is separable. We will start by loading and processing the data. Run the cell below to load the two csv files and convert them into numpy arrays."
      ]
    },
    {
      "cell_type": "code",
      "execution_count": 4,
      "metadata": {
        "id": "Gk1fQ5bWAVMA"
      },
      "outputs": [],
      "source": [
        "# Run this code\n",
        "\n",
        "cats = np.array(pd.read_csv(\"https://raw.githubusercontent.com/bioramble/pca/master/cat.csv\", header=None))\n",
        "dogs = np.array(pd.read_csv(\"https://raw.githubusercontent.com/bioramble/pca/master/dog.csv\", header=None))"
      ]
    },
    {
      "cell_type": "markdown",
      "metadata": {
        "id": "-AM7SHbZAVMB"
      },
      "source": [
        "Next, we'll examine the shape of both the cats and the dogs arrays. Print out both shapes below."
      ]
    },
    {
      "cell_type": "code",
      "execution_count": 5,
      "metadata": {
        "id": "FNSzNORfAVMB",
        "outputId": "100adaba-e26e-4e2e-a091-2e88e3ec4a11",
        "colab": {
          "base_uri": "https://localhost:8080/"
        }
      },
      "outputs": [
        {
          "output_type": "stream",
          "name": "stdout",
          "text": [
            "(4096, 80)\n",
            "(4096, 80)\n"
          ]
        }
      ],
      "source": [
        "from pandas.io.formats.info import pprint_thing\n",
        "# Your code here: \n",
        "print(np.shape(cats))\n",
        "\n",
        "print(np.shape(dogs))\n"
      ]
    },
    {
      "cell_type": "markdown",
      "metadata": {
        "id": "WVV-XmWIAVMB"
      },
      "source": [
        "What this means is that both arrays contain 80 images each (the number of columns). Each image is comprised of 64x64 pixels (so a total of 4096 pixels per image). The images have been flattened such that all 4096 are in a single row.\n",
        "\n",
        "Print out column 0 of the cats array to see what the pixels values look like."
      ]
    },
    {
      "cell_type": "code",
      "execution_count": 6,
      "metadata": {
        "id": "o0kx7l89AVMC",
        "outputId": "d6b59967-f46d-4e6b-8847-13b65e51d392",
        "colab": {
          "base_uri": "https://localhost:8080/"
        }
      },
      "outputs": [
        {
          "output_type": "execute_result",
          "data": {
            "text/plain": [
              "0       64\n",
              "1       64\n",
              "2       64\n",
              "3       64\n",
              "4       64\n",
              "        ..\n",
              "4091    77\n",
              "4092    77\n",
              "4093    64\n",
              "4094    64\n",
              "4095    61\n",
              "Name: 0, Length: 4096, dtype: int64"
            ]
          },
          "metadata": {},
          "execution_count": 6
        }
      ],
      "source": [
        "# Your code here:\n",
        "cats_df= pd.DataFrame(cats) \n",
        "cats_df[0]\n",
        "\n",
        "\n"
      ]
    },
    {
      "cell_type": "markdown",
      "metadata": {
        "id": "qGTOySzvAVMC"
      },
      "source": [
        "Using `matplotlib` we can plot a single cat or a single dog. We do this by reshaping the vector back to a 64x64 image and then using the `imshow` function.\n",
        "\n",
        "Run the code below to look at the first dog and the first cat."
      ]
    },
    {
      "cell_type": "code",
      "execution_count": 7,
      "metadata": {
        "id": "fGFZ4ns4AVMC",
        "outputId": "aae28fe1-d081-4334-aec6-f99e3195f99d",
        "colab": {
          "base_uri": "https://localhost:8080/",
          "height": 286
        }
      },
      "outputs": [
        {
          "output_type": "execute_result",
          "data": {
            "text/plain": [
              "<matplotlib.image.AxesImage at 0x7f3208f18550>"
            ]
          },
          "metadata": {},
          "execution_count": 7
        },
        {
          "output_type": "display_data",
          "data": {
            "text/plain": [
              "<Figure size 432x288 with 1 Axes>"
            ],
            "image/png": "[encoded data removed]"
          },
          "metadata": {
            "needs_background": "light"
          }
        }
      ],
      "source": [
        "# Run this code:\n",
        "\n",
        "fig, ax = plt.subplots()\n",
        "ax.imshow(cats[:,0].reshape(64, 64).T, cmap=plt.cm.bone, interpolation='nearest') "
      ]
    },
    {
      "cell_type": "code",
      "execution_count": 8,
      "metadata": {
        "id": "TIu2HntYAVMD",
        "outputId": "5da23773-b93b-4087-c7ac-e7b887ee0f89",
        "colab": {
          "base_uri": "https://localhost:8080/",
          "height": 286
        }
      },
      "outputs": [
        {
          "output_type": "execute_result",
          "data": {
            "text/plain": [
              "<matplotlib.image.AxesImage at 0x7f3208dfe850>"
            ]
          },
          "metadata": {},
          "execution_count": 8
        },
        {
          "output_type": "display_data",
          "data": {
            "text/plain": [
              "<Figure size 432x288 with 1 Axes>"
            ],
            "image/png": "[encoded data removed]"
          },
          "metadata": {
            "needs_background": "light"
          }
        }
      ],
      "source": [
        "# Run this code:\n",
        "\n",
        "fig, ax = plt.subplots()\n",
        "ax.imshow(dogs[:,0].reshape(64, 64).T, cmap=plt.cm.bone, interpolation='nearest') "
      ]
    },
    {
      "cell_type": "markdown",
      "metadata": {
        "id": "ndvVN1sHAVMD"
      },
      "source": [
        "Next, we would like to create a standardization function. This function will find the mean and standard deviation of each image. We subtract the mean from each pixel and divide each pixel by the standard deviation. Write the function below.\n",
        "\n",
        "Hint: To find the mean and standard deviation of each image, use `numpy`'s version of mean and stadnard deviation and use `axis=0`."
      ]
    },
    {
      "cell_type": "code",
      "execution_count": 11,
      "metadata": {
        "id": "RTqG2bVuAVMD"
      },
      "outputs": [],
      "source": [
        "def standardize(x):\n",
        "    #This function takes as input a numpy array and returns a stadardized numpy array of the same dimensions.\n",
        "    #Sample input: np.array([[1,2,3],[4,5,6]])\n",
        "    #Sample output: np.array([[-1,-1,-1],[1,1,1]])\n",
        "    \n",
        "    # Your code here:  \n",
        "    meanx = np.mean(x, axis=0)   \n",
        "    stdx = np.std(x, axis=0) \n",
        "\n",
        "    return (x-meanx) / stdx\n",
        "    \n",
        "    \n",
        "\n",
        "\n",
        "\n",
        "\n",
        "\n",
        "\n",
        "    "
      ]
    },
    {
      "cell_type": "markdown",
      "metadata": {
        "id": "UF-zV5lsAVMD"
      },
      "source": [
        "Now, use the `np.concatenate` function to combine the cats and dogs arrays. Use `axis=1` to combine the two correctly. Make sure to put dogs first."
      ]
    },
    {
      "cell_type": "code",
      "execution_count": 14,
      "metadata": {
        "id": "9_ogUT5bAVME",
        "outputId": "9ef91fc2-25ab-421c-df42-6354345b5e76",
        "colab": {
          "base_uri": "https://localhost:8080/"
        }
      },
      "outputs": [
        {
          "output_type": "execute_result",
          "data": {
            "text/plain": [
              "array([[ 64,  23, 250, ...,   6,  30, 197],\n",
              "       [ 64,  23, 250, ...,  10,  69, 199],\n",
              "       [ 64,  20, 250, ...,   6,  69, 195],\n",
              "       ...,\n",
              "       [ 64,  31, 244, ...,   7, 163, 166],\n",
              "       [ 64,  23, 232, ...,  10, 140, 170],\n",
              "       [ 61,   9, 244, ...,   7, 140, 171]])"
            ]
          },
          "metadata": {},
          "execution_count": 14
        }
      ],
      "source": [
        "# Your code here:\n",
        "catdog = np.concatenate((cats, dogs), axis=1)\n",
        "catdog\n"
      ]
    },
    {
      "cell_type": "markdown",
      "metadata": {
        "id": "LsOyktsTAVME"
      },
      "source": [
        "Standardize the concatenated array below."
      ]
    },
    {
      "cell_type": "code",
      "execution_count": 21,
      "metadata": {
        "id": "VrAvvmPmAVME"
      },
      "outputs": [],
      "source": [
        "# Your code here:\n",
        " \n",
        "catdog_std = standardize(catdog)"
      ]
    },
    {
      "cell_type": "markdown",
      "metadata": {
        "id": "C7RgZMlXAVME"
      },
      "source": [
        "# Challenge 2 - Using PCA\n",
        "\n",
        "Now that we have created a standardized matrix of cats and dogs, we'll find the two most important components in the data.\n",
        "\n",
        "Load the `PCA` function from `statsmodels` (read about this function [here](https://www.statsmodels.org/dev/generated/statsmodels.multivariate.pca.PCA.html)) and apply the function to our standarized data. Create a PCA model with two components."
      ]
    },
    {
      "cell_type": "code",
      "execution_count": 24,
      "metadata": {
        "id": "Yfg7fkN_AVME",
        "outputId": "025ba90c-ea7f-4c7a-9e1a-3c689b2dbb03",
        "colab": {
          "base_uri": "https://localhost:8080/"
        }
      },
      "outputs": [
        {
          "output_type": "execute_result",
          "data": {
            "text/plain": [
              "(4096, 2)"
            ]
          },
          "metadata": {},
          "execution_count": 24
        }
      ],
      "source": [
        "# Your code here: \n",
        "from statsmodels.multivariate.pca import PCA  \n",
        "PCAcatdog = PCA(np.array(catdog_std), ncomp=2) \n",
        "PCAcatdog.factors.shape\n",
        "\n",
        "\n"
      ]
    },
    {
      "cell_type": "markdown",
      "metadata": {
        "id": "TAtEGGauAVME"
      },
      "source": [
        "Use `numpy` to find to transpose the standardized pet array. This will help us compute the projection."
      ]
    },
    {
      "cell_type": "code",
      "execution_count": 27,
      "metadata": {
        "id": "1OPzDV9SAVME",
        "outputId": "85607a64-f700-4450-8838-7b9d09a3626b",
        "colab": {
          "base_uri": "https://localhost:8080/"
        }
      },
      "outputs": [
        {
          "output_type": "execute_result",
          "data": {
            "text/plain": [
              "array([[ 0.08483333,  0.08483333,  0.08483333, ...,  0.08483333,\n",
              "         0.08483333,  0.0376196 ],\n",
              "       [-1.50629151, -1.50629151, -1.56078403, ..., -1.36097813,\n",
              "        -1.50629151, -1.76058993],\n",
              "       [ 1.80099272,  1.80099272,  1.80099272, ...,  1.73863632,\n",
              "         1.61392352,  1.73863632],\n",
              "       ...,\n",
              "       [-1.20040955, -1.1555871 , -1.20040955, ..., -1.18920394,\n",
              "        -1.1555871 , -1.18920394],\n",
              "       [-1.96502931, -1.30339954, -1.30339954, ...,  0.29129785,\n",
              "        -0.09889407, -0.09889407],\n",
              "       [ 1.40507148,  1.43412363,  1.37601933, ...,  0.95476315,\n",
              "         1.01286745,  1.02739353]])"
            ]
          },
          "metadata": {},
          "execution_count": 27
        }
      ],
      "source": [
        "# Your code here: \n",
        "\n",
        "catdog_t=catdog_std.transpose() \n",
        "catdog_t\n"
      ]
    },
    {
      "cell_type": "markdown",
      "metadata": {
        "id": "__gAVY-KAVME"
      },
      "source": [
        "Find the dot product of the transposed standardized pet matrix and the `factors` of the `PCA` model found above. This will be the projection onto 2 dimensions. This means that each cat and dog image will now only have two columns instead of 4096."
      ]
    },
    {
      "cell_type": "code",
      "execution_count": 32,
      "metadata": {
        "id": "7zfZi-UhAVMF"
      },
      "outputs": [],
      "source": [
        "# Your code here: \n",
        "catdog_t2= np.dot(catdog_t,PCAcatdog.factors)\n",
        "\n"
      ]
    },
    {
      "cell_type": "markdown",
      "metadata": {
        "id": "nAzLGjFrAVMF"
      },
      "source": [
        "# Challenge 3 - Plotting the Data\n",
        "\n",
        "Now that we have reduced our cats and dogs arrays, we can easily plot the data in a way that the human eye can understand. We can look at this plot to see whether there are differences between the cat and dog images. \n",
        "\n",
        "In the cell below, turn the two dimensional projection into a pandas dataframe and name the columns `pc1`, and `pc2` respectively."
      ]
    },
    {
      "cell_type": "code",
      "execution_count": 33,
      "metadata": {
        "id": "WTx-uyRvAVMF",
        "outputId": "102e517c-db50-4334-a343-70354af0fc1a",
        "colab": {
          "base_uri": "https://localhost:8080/",
          "height": 424
        }
      },
      "outputs": [
        {
          "output_type": "execute_result",
          "data": {
            "text/plain": [
              "           pc1        pc2\n",
              "0   -15.655354  14.218970\n",
              "1   -49.691809   1.020373\n",
              "2    48.166052   3.752864\n",
              "3    41.007105  -1.335932\n",
              "4   -30.179927  17.505280\n",
              "..         ...        ...\n",
              "155  39.869559   5.874976\n",
              "156  33.230892  -8.669389\n",
              "157  -8.281759 -34.630648\n",
              "158  -3.351855 -33.188237\n",
              "159  39.012400   2.677817\n",
              "\n",
              "[160 rows x 2 columns]"
            ],
            "text/html": [
              "\n",
              "  <div id=\"df-32a16a5f-6bdc-4d0d-b60b-f62acd54b780\">\n",
              "    <div class=\"colab-df-container\">\n",
              "      <div>\n",
              "<style scoped>\n",
              "    .dataframe tbody tr th:only-of-type {\n",
              "        vertical-align: middle;\n",
              "    }\n",
              "\n",
              "    .dataframe tbody tr th {\n",
              "        vertical-align: top;\n",
              "    }\n",
              "\n",
              "    .dataframe thead th {\n",
              "        text-align: right;\n",
              "    }\n",
              "</style>\n",
              "<table border=\"1\" class=\"dataframe\">\n",
              "  <thead>\n",
              "    <tr style=\"text-align: right;\">\n",
              "      <th></th>\n",
              "      <th>pc1</th>\n",
              "      <th>pc2</th>\n",
              "    </tr>\n",
              "  </thead>\n",
              "  <tbody>\n",
              "    <tr>\n",
              "      <th>0</th>\n",
              "      <td>-15.655354</td>\n",
              "      <td>14.218970</td>\n",
              "    </tr>\n",
              "    <tr>\n",
              "      <th>1</th>\n",
              "      <td>-49.691809</td>\n",
              "      <td>1.020373</td>\n",
              "    </tr>\n",
              "    <tr>\n",
              "      <th>2</th>\n",
              "      <td>48.166052</td>\n",
              "      <td>3.752864</td>\n",
              "    </tr>\n",
              "    <tr>\n",
              "      <th>3</th>\n",
              "      <td>41.007105</td>\n",
              "      <td>-1.335932</td>\n",
              "    </tr>\n",
              "    <tr>\n",
              "      <th>4</th>\n",
              "      <td>-30.179927</td>\n",
              "      <td>17.505280</td>\n",
              "    </tr>\n",
              "    <tr>\n",
              "      <th>...</th>\n",
              "      <td>...</td>\n",
              "      <td>...</td>\n",
              "    </tr>\n",
              "    <tr>\n",
              "      <th>155</th>\n",
              "      <td>39.869559</td>\n",
              "      <td>5.874976</td>\n",
              "    </tr>\n",
              "    <tr>\n",
              "      <th>156</th>\n",
              "      <td>33.230892</td>\n",
              "      <td>-8.669389</td>\n",
              "    </tr>\n",
              "    <tr>\n",
              "      <th>157</th>\n",
              "      <td>-8.281759</td>\n",
              "      <td>-34.630648</td>\n",
              "    </tr>\n",
              "    <tr>\n",
              "      <th>158</th>\n",
              "      <td>-3.351855</td>\n",
              "      <td>-33.188237</td>\n",
              "    </tr>\n",
              "    <tr>\n",
              "      <th>159</th>\n",
              "      <td>39.012400</td>\n",
              "      <td>2.677817</td>\n",
              "    </tr>\n",
              "  </tbody>\n",
              "</table>\n",
              "<p>160 rows × 2 columns</p>\n",
              "</div>\n",
              "      <button class=\"colab-df-convert\" onclick=\"convertToInteractive('df-32a16a5f-6bdc-4d0d-b60b-f62acd54b780')\"\n",
              "              title=\"Convert this dataframe to an interactive table.\"\n",
              "              style=\"display:none;\">\n",
              "        \n",
              "  <svg xmlns=\"http://www.w3.org/2000/svg\" height=\"24px\"viewBox=\"0 0 24 24\"\n",
              "       width=\"24px\">\n",
              "    <path d=\"M0 0h24v24H0V0z\" fill=\"none\"/>\n",
              "    <path d=\"M18.56 5.44l.94 2.06.94-2.06 2.06-.94-2.06-.94-.94-2.06-.94 2.06-2.06.94zm-11 1L8.5 8.5l.94-2.06 2.06-.94-2.06-.94L8.5 2.5l-.94 2.06-2.06.94zm10 10l.94 2.06.94-2.06 2.06-.94-2.06-.94-.94-2.06-.94 2.06-2.06.94z\"/><path d=\"M17.41 7.96l-1.37-1.37c-.4-.4-.92-.59-1.43-.59-.52 0-1.04.2-1.43.59L10.3 9.45l-7.72 7.72c-.78.78-.78 2.05 0 2.83L4 21.41c.39.39.9.59 1.41.59.51 0 1.02-.2 1.41-.59l7.78-7.78 2.81-2.81c.8-.78.8-2.07 0-2.86zM5.41 20L4 18.59l7.72-7.72 1.47 1.35L5.41 20z\"/>\n",
              "  </svg>\n",
              "      </button>\n",
              "      \n",
              "  <style>\n",
              "    .colab-df-container {\n",
              "      display:flex;\n",
              "      flex-wrap:wrap;\n",
              "      gap: 12px;\n",
              "    }\n",
              "\n",
              "    .colab-df-convert {\n",
              "      background-color: #E8F0FE;\n",
              "      border: none;\n",
              "      border-radius: 50%;\n",
              "      cursor: pointer;\n",
              "      display: none;\n",
              "      fill: #1967D2;\n",
              "      height: 32px;\n",
              "      padding: 0 0 0 0;\n",
              "      width: 32px;\n",
              "    }\n",
              "\n",
              "    .colab-df-convert:hover {\n",
              "      background-color: #E2EBFA;\n",
              "      box-shadow: 0px 1px 2px rgba(60, 64, 67, 0.3), 0px 1px 3px 1px rgba(60, 64, 67, 0.15);\n",
              "      fill: #174EA6;\n",
              "    }\n",
              "\n",
              "    [theme=dark] .colab-df-convert {\n",
              "      background-color: #3B4455;\n",
              "      fill: #D2E3FC;\n",
              "    }\n",
              "\n",
              "    [theme=dark] .colab-df-convert:hover {\n",
              "      background-color: #434B5C;\n",
              "      box-shadow: 0px 1px 3px 1px rgba(0, 0, 0, 0.15);\n",
              "      filter: drop-shadow(0px 1px 2px rgba(0, 0, 0, 0.3));\n",
              "      fill: #FFFFFF;\n",
              "    }\n",
              "  </style>\n",
              "\n",
              "      <script>\n",
              "        const buttonEl =\n",
              "          document.querySelector('#df-32a16a5f-6bdc-4d0d-b60b-f62acd54b780 button.colab-df-convert');\n",
              "        buttonEl.style.display =\n",
              "          google.colab.kernel.accessAllowed ? 'block' : 'none';\n",
              "\n",
              "        async function convertToInteractive(key) {\n",
              "          const element = document.querySelector('#df-32a16a5f-6bdc-4d0d-b60b-f62acd54b780');\n",
              "          const dataTable =\n",
              "            await google.colab.kernel.invokeFunction('convertToInteractive',\n",
              "                                                     [key], {});\n",
              "          if (!dataTable) return;\n",
              "\n",
              "          const docLinkHtml = 'Like what you see? Visit the ' +\n",
              "            '<a target=\"_blank\" href=https://colab.research.google.com/notebooks/data_table.ipynb>data table notebook</a>'\n",
              "            + ' to learn more about interactive tables.';\n",
              "          element.innerHTML = '';\n",
              "          dataTable['output_type'] = 'display_data';\n",
              "          await google.colab.output.renderOutput(dataTable, element);\n",
              "          const docLink = document.createElement('div');\n",
              "          docLink.innerHTML = docLinkHtml;\n",
              "          element.appendChild(docLink);\n",
              "        }\n",
              "      </script>\n",
              "    </div>\n",
              "  </div>\n",
              "  "
            ]
          },
          "metadata": {},
          "execution_count": 33
        }
      ],
      "source": [
        "# Your code here:\n",
        "df_catdog = pd.DataFrame(data=catdog_t2, columns=['pc1', 'pc2']) \n",
        "df_catdog\n"
      ]
    },
    {
      "cell_type": "markdown",
      "metadata": {
        "id": "2g3BfucnAVMF"
      },
      "source": [
        "Create a labels list. This list will be of size 160. The first 80 elements in the list will be the word `blue`, and the last 80 elements will be `red`. This will ensure that all dog observations will be colored in blue and all cats will be colored in red. Name this list `colors`."
      ]
    },
    {
      "cell_type": "code",
      "execution_count": 35,
      "metadata": {
        "id": "KgcZDycYAVMF"
      },
      "outputs": [],
      "source": [
        "# Your code here:\n",
        "colors=[] \n",
        "\n",
        "for i in range(80): \n",
        "  colors.append('blue') \n",
        "for i in range(80): \n",
        "  colors.append('red')\n"
      ]
    },
    {
      "cell_type": "markdown",
      "metadata": {
        "id": "AEKKKnapAVMF"
      },
      "source": [
        "Create a scatter plot of `pc1` and `pc2` below. Use the `colors` list above to color the observations by setting `c=colors`."
      ]
    },
    {
      "cell_type": "code",
      "execution_count": 37,
      "metadata": {
        "id": "rbNMyX6kAVMF",
        "outputId": "d6f0e67d-a617-41a7-dd43-c3527d83fb98",
        "colab": {
          "base_uri": "https://localhost:8080/",
          "height": 297
        }
      },
      "outputs": [
        {
          "output_type": "execute_result",
          "data": {
            "text/plain": [
              "<matplotlib.axes._subplots.AxesSubplot at 0x7f31fff913d0>"
            ]
          },
          "metadata": {},
          "execution_count": 37
        },
        {
          "output_type": "display_data",
          "data": {
            "text/plain": [
              "<Figure size 432x288 with 1 Axes>"
            ],
            "image/png": "[encoded data removed]"
          },
          "metadata": {
            "needs_background": "light"
          }
        }
      ],
      "source": [
        "# Your code here:\n",
        "df_catdog.plot.scatter(x='pc1', y='pc2', c=colors)\n"
      ]
    },
    {
      "cell_type": "markdown",
      "metadata": {
        "id": "mv9KbMCtAVMF"
      },
      "source": [
        "Do you see a clear separation between cats and dogs? Write your answer below."
      ]
    },
    {
      "cell_type": "code",
      "execution_count": null,
      "metadata": {
        "id": "Y8KQoQQTAVMF"
      },
      "outputs": [],
      "source": [
        "# Your conclusions here:\n",
        "\n"
      ]
    },
    {
      "cell_type": "code",
      "execution_count": null,
      "metadata": {
        "id": "uG5kd08PAVMF"
      },
      "outputs": [],
      "source": []
    }
  ],
  "metadata": {
    "kernelspec": {
      "display_name": "Python 3",
      "language": "python",
      "name": "python3"
    },
    "language_info": {
      "codemirror_mode": {
        "name": "ipython",
        "version": 3
      },
      "file_extension": ".py",
      "mimetype": "text/x-python",
      "name": "python",
      "nbconvert_exporter": "python",
      "pygments_lexer": "ipython3",
      "version": "3.6.6"
    },
    "colab": {
      "provenance": []
    }
  },
  "nbformat": 4,
  "nbformat_minor": 0
}